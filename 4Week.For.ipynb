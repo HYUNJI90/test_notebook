{
 "cells": [
  {
   "cell_type": "markdown",
   "metadata": {},
   "source": [
    "***\n",
    "# While\n",
    "#### Description: \n",
    "> * 조건이 참인 동안에만 반복을 수행, 조건에 만족하는 결과를 얻기 위한 Loop\n",
    "\n",
    "\n",
    "> * while구문은 조건식이 있어야 한다.\n",
    "\n",
    "#### Structure:\n",
    "> **while** (True or False가 되는 조건식):\n",
    "\n",
    "***\n",
    "# &#127796;   For \n",
    "#### Description:\n",
    "> * 범위를 지정하거나 특정 범위를 가진 Loop\n",
    "\n",
    "> * __for 구문은 조건식이 없다.__\n",
    "\n",
    "> * 반복 주체를 나타내는 변수를 for 다음에, 반복 횟수를 나타내는 변수는 in 다음에 사용\n",
    "\n",
    "#### Structure: \n",
    ">**for** (변수명) **in** (범위 또는 배열의 변수, 순서형 자료):\n",
    "\n",
    "***\n"
   ]
  },
  {
   "cell_type": "markdown",
   "metadata": {},
   "source": [
    "## example# **반복을 위한 상황**"
   ]
  },
  {
   "cell_type": "markdown",
   "metadata": {
    "collapsed": true
   },
   "source": [
    "#### 1. Fighting을 8번 출력하라."
   ]
  },
  {
   "cell_type": "code",
   "execution_count": null,
   "metadata": {},
   "outputs": [],
   "source": [
    "#While 구문 활용\n",
    "\n",
    "i = 0\n",
    "while i < 8:\n",
    "    print(\"Fighting\")\n",
    "    i = i+1"
   ]
  },
  {
   "cell_type": "code",
   "execution_count": null,
   "metadata": {},
   "outputs": [],
   "source": [
    "#For 구문 활용\n",
    "\n",
    "for i in range(8):\n",
    "    print(\"Fighting\")\n",
    "    "
   ]
  },
  {
   "cell_type": "markdown",
   "metadata": {},
   "source": [
    "#### 2. Visuallization for FOR (using TURTLE)"
   ]
  },
  {
   "cell_type": "code",
   "execution_count": null,
   "metadata": {
    "collapsed": true
   },
   "outputs": [],
   "source": [
    "import turtle as t \n",
    "t.shape(\"turtle\")\n",
    "\n",
    "for x in range(100):\n",
    "    t.forward(100)\n",
    "    t.left(36)"
   ]
  },
  {
   "cell_type": "code",
   "execution_count": null,
   "metadata": {
    "collapsed": true
   },
   "outputs": [],
   "source": [
    "import turtle as t \n",
    "t.shape(\"turtle\")\n",
    "\n",
    "for x in range(36):\n",
    "    t.circle(100)\n",
    "    t.right(10)"
   ]
  },
  {
   "cell_type": "markdown",
   "metadata": {},
   "source": [
    "#### 30명이 있는 수업에서 생일이 같은 사람이 있을 확률은?\n",
    "##### 참고: 생일문제  <https://ko.wikipedia.org/wiki/%EC%83%9D%EC%9D%BC_%EB%AC%B8%EC%A0%9C>"
   ]
  },
  {
   "cell_type": "code",
   "execution_count": 17,
   "metadata": {},
   "outputs": [
    {
     "name": "stdout",
     "output_type": "stream",
     "text": [
      "30 명 중 생일이 같은 사람이 있을 확률은  0.703 입니다\n"
     ]
    }
   ],
   "source": [
    "import numpy as np\n",
    "numstudents = 30\n",
    "numTrials = 10000\n",
    "numWithSameBday = 0\n",
    "\n",
    "\n",
    "for trial in range(numTrials):\n",
    "    year = [0]*365\n",
    "    \n",
    "    for i in range(numstudents):\n",
    "        newBDay = np.random.randint(365)\n",
    "        year[newBDay] = year[newBDay] + 1\n",
    "        haveSameBday = False\n",
    "        \n",
    "    for num in year:\n",
    "        if num > 1:\n",
    "            haveSameBday = True\n",
    "                \n",
    "    if haveSameBday == True:\n",
    "        numWithSameBday = numWithSameBday + 1\n",
    "                \n",
    "prob = float(numWithSameBday) / float(numTrials)\n",
    "\n",
    "print(numstudents,\"명 중 생일이 같은 사람이 있을 확률은 \", prob,\"입니다\")\n",
    "                \n"
   ]
  },
  {
   "cell_type": "markdown",
   "metadata": {},
   "source": [
    "## Jump to Python "
   ]
  },
  {
   "cell_type": "code",
   "execution_count": null,
   "metadata": {},
   "outputs": [],
   "source": [
    "# 전형적인 for 문\n",
    "\n",
    "test_list = ['one', 'two', 'three'] \n",
    "\n",
    "for i in test_list:\n",
    "    print(i)"
   ]
  },
  {
   "cell_type": "code",
   "execution_count": null,
   "metadata": {},
   "outputs": [],
   "source": [
    "# 다양한 for문의 사용\n",
    "\n",
    "a = [(1,2), (3,4), (5,6)]\n",
    "\n",
    "for (first, last) in a:\n",
    "    print(first + last)"
   ]
  },
  {
   "cell_type": "code",
   "execution_count": null,
   "metadata": {},
   "outputs": [],
   "source": [
    "#For 문의 응용\n",
    "#총 5명의 학생이 시험을 보았는데 시험 점수가 60점이 넘으면 합격이고 그렇지 않으면 불합격이다. 합격인지 불합격인지 결과를 보여주시오.\"\n",
    "\n",
    "marks = [90, 25, 67, 45, 80]\n",
    "number = 0 \n",
    "\n",
    "for mark in marks: \n",
    "    number = number +1 \n",
    "    if mark >= 60: \n",
    "        print(\"%d번 학생은 합격입니다.\" % number)\n",
    "    else: \n",
    "        print(\"%d번 학생은 불합격입니다.\" % number)"
   ]
  },
  {
   "cell_type": "code",
   "execution_count": null,
   "metadata": {
    "collapsed": true
   },
   "outputs": [],
   "source": [
    "#for문과 continue\n",
    "\n",
    "marks = [90, 25, 67, 45, 80]\n",
    "number = 0 \n",
    "\n",
    "for mark in marks: \n",
    "    number = number +1 \n",
    "    if mark < 60: \n",
    "        continue #가장 상위 계산으로 이동\n",
    "        print(\"%d번 학생 축하합니다. 합격입니다. \" % number)\n"
   ]
  },
  {
   "cell_type": "markdown",
   "metadata": {},
   "source": [
    "#### range 함수\n",
    "> 범위를 간단하게 표현할 수 있도록 함\n",
    "\n",
    "> * range(A) : 0 부터 A 미만의 정수 범위를 나타냄, _(파이썬의 숫자체계 참고)_\n",
    "\n",
    "\n",
    "> * range(A, B) : A 부터 B 미만의 정수 범위를 나타냄\n",
    "\n",
    "\n",
    "> * range(A, B, C) : A부터 B 미만의 정수까지 C만큼씩 증가시킨 범위를 나타냄 "
   ]
  },
  {
   "cell_type": "code",
   "execution_count": null,
   "metadata": {},
   "outputs": [],
   "source": [
    "a = range(10)\n",
    "a\n",
    "#print(a)\n",
    "\n",
    "for x in a:\n",
    "    print(x)"
   ]
  },
  {
   "cell_type": "code",
   "execution_count": null,
   "metadata": {},
   "outputs": [],
   "source": [
    "a = range(1,11)\n",
    "a\n",
    "#print(a)\n",
    "\n",
    "for x in a:\n",
    "    print(x)"
   ]
  },
  {
   "cell_type": "code",
   "execution_count": null,
   "metadata": {},
   "outputs": [],
   "source": [
    "a = range(1,11,3)\n",
    "a\n",
    "#print(a)\n",
    "\n",
    "for x in a:\n",
    "    print(x)"
   ]
  },
  {
   "cell_type": "code",
   "execution_count": null,
   "metadata": {},
   "outputs": [],
   "source": [
    "# range함수 활용\n",
    "\n",
    "sum = 0\n",
    "\n",
    "for x in range(1,11):\n",
    "    sum = sum + x\n",
    "    print(sum)"
   ]
  },
  {
   "cell_type": "markdown",
   "metadata": {
    "collapsed": true
   },
   "source": [
    "#### 리스트 안에 for문 포함하기 (리스트 내포: List comprehension)"
   ]
  },
  {
   "cell_type": "code",
   "execution_count": 2,
   "metadata": {},
   "outputs": [
    {
     "name": "stdout",
     "output_type": "stream",
     "text": [
      "[3, 6, 9, 12]\n"
     ]
    }
   ],
   "source": [
    "# 일반적인 for 구문\n",
    "\n",
    "a = [1,2,3,4]\n",
    "result = []\n",
    "\n",
    "for num in a:\n",
    "    result.append(num*3)\n",
    "    \n",
    "print(result)"
   ]
  },
  {
   "cell_type": "code",
   "execution_count": 3,
   "metadata": {},
   "outputs": [
    {
     "name": "stdout",
     "output_type": "stream",
     "text": [
      "[3, 6, 9, 12]\n"
     ]
    }
   ],
   "source": [
    "#List comprehension application\n",
    "\n",
    "result = [num*3 for num in a]\n",
    "print(result)"
   ]
  },
  {
   "cell_type": "markdown",
   "metadata": {},
   "source": [
    "#### REFERENCES\n",
    "1. 점프투파이썬 <https://wikidocs.net/22>\n",
    "2. http://blog.eairship.kr/282\n",
    "3. 파이썬 터틀 <https://docs.python.org/2/library/turtle.html>"
   ]
  }
 ],
 "metadata": {
  "kernelspec": {
   "display_name": "Python 3",
   "language": "python",
   "name": "python3"
  },
  "language_info": {
   "codemirror_mode": {
    "name": "ipython",
    "version": 3
   },
   "file_extension": ".py",
   "mimetype": "text/x-python",
   "name": "python",
   "nbconvert_exporter": "python",
   "pygments_lexer": "ipython3",
   "version": "3.6.1"
  }
 },
 "nbformat": 4,
 "nbformat_minor": 2
}
