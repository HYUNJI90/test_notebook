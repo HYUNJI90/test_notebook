{
 "cells": [
  {
   "cell_type": "markdown",
   "metadata": {},
   "source": [
    "## 맛집추천 선택지 중 랜덤하게 뽑아보는 프로그램을 작성"
   ]
  },
  {
   "cell_type": "markdown",
   "metadata": {},
   "source": [
    "망고플레이트 : https://www.mangoplate.com/"
   ]
  },
  {
   "cell_type": "code",
   "execution_count": 21,
   "metadata": {
    "collapsed": true
   },
   "outputs": [],
   "source": [
    "import sys\n",
    "import time\n",
    "from selenium import webdriver\n",
    "from selenium.common import exceptions"
   ]
  },
  {
   "cell_type": "markdown",
   "metadata": {},
   "source": [
    "# 데이터 수집을 위한 망고플레이트 크롤링"
   ]
  },
  {
   "cell_type": "markdown",
   "metadata": {},
   "source": [
    "#### 브라우저 객체 생성 "
   ]
  },
  {
   "cell_type": "code",
   "execution_count": 22,
   "metadata": {
    "collapsed": true
   },
   "outputs": [],
   "source": [
    "driver = webdriver.Chrome()"
   ]
  },
  {
   "cell_type": "markdown",
   "metadata": {},
   "source": [
    "#### 망고플레이트 사이트 접속"
   ]
  },
  {
   "cell_type": "code",
   "execution_count": 23,
   "metadata": {
    "collapsed": true
   },
   "outputs": [],
   "source": [
    "driver.get(\"https://www.mangoplate.com/\")"
   ]
  },
  {
   "cell_type": "markdown",
   "metadata": {},
   "source": [
    "#### 망고플레이트 검색창 엘리먼트 탐색 및 검색어 입력"
   ]
  },
  {
   "cell_type": "code",
   "execution_count": 24,
   "metadata": {},
   "outputs": [],
   "source": [
    "search_element = driver.find_element_by_css_selector('#main-search')\n",
    "search_element.clear()\n",
    "search_element.send_keys('한대앞역')\n",
    "\n",
    "search_button = driver.find_element_by_css_selector(\".btn-search\")\n",
    "search_button.click()"
   ]
  },
  {
   "cell_type": "markdown",
   "metadata": {},
   "source": [
    "# 식당 상호명 리스트 생성"
   ]
  },
  {
   "cell_type": "markdown",
   "metadata": {},
   "source": [
    "#### 1페이지 정보 가져오기"
   ]
  },
  {
   "cell_type": "code",
   "execution_count": 25,
   "metadata": {
    "collapsed": true
   },
   "outputs": [],
   "source": [
    "restaurant_list = driver.find_element_by_css_selector('ul.list-restaurants')\n",
    "restaurant_info = restaurant_list.find_elements_by_css_selector('figure.restaurant-item')"
   ]
  },
  {
   "cell_type": "code",
   "execution_count": 26,
   "metadata": {
    "collapsed": true
   },
   "outputs": [],
   "source": [
    "total_restaurant_info_list = []\n",
    "for i in restaurant_info[:10]:\n",
    "    try:\n",
    "        name, address = i.find_element_by_css_selector('.thumb img').get_attribute('alt').split('사진 -')\n",
    "        total_restaurant_info_list.append(name.strip())\n",
    "    except(exceptions.NoSuchElementException):\n",
    "        break"
   ]
  },
  {
   "cell_type": "code",
   "execution_count": 27,
   "metadata": {},
   "outputs": [
    {
     "data": {
      "text/plain": [
       "['포냐향',\n",
       " '행복한 커피&다이닝',\n",
       " '더 타르트 1698',\n",
       " '좋은아침과자점',\n",
       " '에비수',\n",
       " '뜨락',\n",
       " '이동닭한마리칼국수',\n",
       " '추억의 서서갈비',\n",
       " '양푼왕갈비',\n",
       " '칸티푸르레스토랑']"
      ]
     },
     "execution_count": 27,
     "metadata": {},
     "output_type": "execute_result"
    }
   ],
   "source": [
    "total_restaurant_info_list"
   ]
  },
  {
   "cell_type": "markdown",
   "metadata": {},
   "source": [
    "#### 2페이지부터 정보 가져오기"
   ]
  },
  {
   "cell_type": "code",
   "execution_count": 31,
   "metadata": {},
   "outputs": [
    {
     "name": "stdout",
     "output_type": "stream",
     "text": [
      "9 / 9END!\n"
     ]
    }
   ],
   "source": [
    "# 수정 17.10.10 - 예외처리 \n",
    "try:\n",
    "    page_nums = driver.find_element_by_css_selector('.paging').find_elements_by_css_selector('.ng-binding.ng-scope')[1:]\n",
    "\n",
    "    cnt = 0\n",
    "    for p in page_nums:\n",
    "        cnt += 1\n",
    "        sys.stdout.write('\\r%d / %d' % (cnt, len(page_nums)))\n",
    "        driver.execute_script(\"window.scrollTo(0, document.body.scrollHeight);\")\n",
    "        p.click()\n",
    "        time.sleep(5)\n",
    "        restaurant_list = driver.find_element_by_css_selector('ul.list-restaurants')\n",
    "        restaurant_info = restaurant_list.find_elements_by_css_selector('figure.restaurant-item')\n",
    "        for i in restaurant_info[:10]:\n",
    "            name, address = i.find_element_by_css_selector('.thumb img').get_attribute('alt').split('사진 -')\n",
    "            total_restaurant_info_list.append(name.strip())\n",
    "\n",
    "except(exceptions.ElementNotVisibleException) as e:\n",
    "    pass\n",
    "\n",
    "print('END!')"
   ]
  },
  {
   "cell_type": "markdown",
   "metadata": {},
   "source": [
    "#### 한대앞역 망고플레이트 맛집 상호명 리스트"
   ]
  },
  {
   "cell_type": "code",
   "execution_count": 29,
   "metadata": {},
   "outputs": [
    {
     "data": {
      "text/plain": [
       "['포냐향',\n",
       " '행복한 커피&다이닝',\n",
       " '더 타르트 1698',\n",
       " '좋은아침과자점',\n",
       " '에비수',\n",
       " '뜨락',\n",
       " '이동닭한마리칼국수',\n",
       " '추억의 서서갈비',\n",
       " '양푼왕갈비',\n",
       " '칸티푸르레스토랑',\n",
       " '카페그레',\n",
       " '마루',\n",
       " '고기와득이',\n",
       " '투썸플레이스',\n",
       " '취해',\n",
       " '키친모리아',\n",
       " '네모',\n",
       " '한양통닭한마리',\n",
       " '폼프리츠',\n",
       " '보약족발',\n",
       " '이바돔감자탕',\n",
       " '느티나무집생태찌개',\n",
       " '미술관',\n",
       " '승혜네김치전골두루치기',\n",
       " '소락',\n",
       " '소래포구',\n",
       " '파실리따',\n",
       " '명장한우',\n",
       " '연안생태찌개',\n",
       " '스낵플랜트',\n",
       " '대학통닭',\n",
       " '황산',\n",
       " '프레츠데프리츠',\n",
       " '토마토도시락',\n",
       " '무한버섯나라',\n",
       " '명랑핫도그',\n",
       " '밥알',\n",
       " '도깨비왕감자탕',\n",
       " '스카이치킨',\n",
       " '진달래',\n",
       " '한양동태마을',\n",
       " '아프리카당나귀',\n",
       " '참마시찌춘천닭갈비',\n",
       " '우당탕',\n",
       " '요거프레소',\n",
       " '뉴욕바',\n",
       " '대성떡방앗간',\n",
       " '회식의달인생고기',\n",
       " '뉴욕바닷가재',\n",
       " '토담',\n",
       " '산촌오리참옻집',\n",
       " '요산재채식뷔페',\n",
       " '세림사철탕',\n",
       " '각시보쌈',\n",
       " '력참숯풍천민물장어직판장',\n",
       " '궁중삼계탕',\n",
       " '파티앤케이크',\n",
       " '태후',\n",
       " '풍천민물장어',\n",
       " '장수떡집',\n",
       " '장모집게장',\n",
       " '강남돈까스',\n",
       " '참항제주뚝배기',\n",
       " '동대문엽기떡볶이',\n",
       " '토마토도시락',\n",
       " '이화야채곱창',\n",
       " '무봉리토종순대국',\n",
       " '영덕해물탕',\n",
       " '산채정식',\n",
       " '아인스커피숍',\n",
       " '황산',\n",
       " '장모님옻닭보쌈',\n",
       " '우당',\n",
       " '예산닭갈비감자탕',\n",
       " '부즈위드',\n",
       " '코리아숯불바베큐',\n",
       " '안산불고기',\n",
       " '연평도게장',\n",
       " '공주네회조개구이',\n",
       " '굴다리잔치국수',\n",
       " '파파호두',\n",
       " '청학골오리',\n",
       " '24시수타신짬뽕',\n",
       " '펀비어킹',\n",
       " '삼사오',\n",
       " '명옥부대찌개',\n",
       " '료엔',\n",
       " '피자헐',\n",
       " '박혜자낙지마당',\n",
       " '주미랑도토리마당',\n",
       " '파파호두',\n",
       " '청학골오리',\n",
       " '24시수타신짬뽕',\n",
       " '펀비어킹',\n",
       " '삼사오',\n",
       " '명옥부대찌개',\n",
       " '료엔',\n",
       " '피자헐',\n",
       " '박혜자낙지마당',\n",
       " '주미랑도토리마당']"
      ]
     },
     "execution_count": 29,
     "metadata": {},
     "output_type": "execute_result"
    }
   ],
   "source": [
    "total_restaurant_info_list"
   ]
  },
  {
   "cell_type": "markdown",
   "metadata": {},
   "source": [
    "# 식당 랜덤하게 뽑기"
   ]
  },
  {
   "cell_type": "code",
   "execution_count": 30,
   "metadata": {},
   "outputs": [
    {
     "data": {
      "text/plain": [
       "'에비수'"
      ]
     },
     "execution_count": 30,
     "metadata": {},
     "output_type": "execute_result"
    }
   ],
   "source": [
    "import random\n",
    "random.choice(total_restaurant_info_list)"
   ]
  },
  {
   "cell_type": "code",
   "execution_count": null,
   "metadata": {
    "collapsed": true
   },
   "outputs": [],
   "source": []
  }
 ],
 "metadata": {
  "anaconda-cloud": {},
  "kernelspec": {
   "display_name": "Python 3",
   "language": "python",
   "name": "python3"
  },
  "language_info": {
   "codemirror_mode": {
    "name": "ipython",
    "version": 3
   },
   "file_extension": ".py",
   "mimetype": "text/x-python",
   "name": "python",
   "nbconvert_exporter": "python",
   "pygments_lexer": "ipython3",
   "version": "3.6.1"
  }
 },
 "nbformat": 4,
 "nbformat_minor": 1
}
